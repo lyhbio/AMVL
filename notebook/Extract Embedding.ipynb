{
 "cells": [
  {
   "cell_type": "code",
   "execution_count": 1,
   "id": "5d51640d",
   "metadata": {
    "metadata": {}
   },
   "outputs": [],
   "source": [
    "# %pip install numpy pandas xgboost scikit-learn lightgbm torch"
   ]
  },
  {
   "cell_type": "code",
   "execution_count": 2,
   "id": "4854623e-453a-4f35-a938-e39d6431cea3",
   "metadata": {
    "metadata": {}
   },
   "outputs": [],
   "source": [
    "import numpy as np\n",
    "import pandas as pd\n",
    "\n",
    "# import torch\n",
    "# import torch.nn as nn\n",
    "# import torch.nn.functional as F\n",
    "# from torch.utils.data import DataLoader, TensorDataset\n",
    "\n",
    "from utils.utils import extract_and_merge_datasets, extract_embeddings"
   ]
  },
  {
   "cell_type": "markdown",
   "id": "eaaf67d4-39f6-4cb8-8785-7a132bd7a2b1",
   "metadata": {},
   "source": [
    "## Prepare"
   ]
  },
  {
   "cell_type": "code",
   "execution_count": 3,
   "id": "481d7199-e456-488a-8aac-5cd822ba0e0e",
   "metadata": {
    "metadata": {}
   },
   "outputs": [],
   "source": [
    "dataset_files = ['data/Cdataset/Cdataset.mat', 'data/Fdataset/Fdataset.mat', \n",
    "                 'data/Ydataset/Ydataset.mat', 'data/iDrug/iDrug.mat']"
   ]
  },
  {
   "cell_type": "code",
   "execution_count": 4,
   "id": "3a2cbb8e-15ad-4786-814c-3e3ad529f16f",
   "metadata": {
    "metadata": {},
    "scrolled": true
   },
   "outputs": [
    {
     "name": "stdout",
     "output_type": "stream",
     "text": [
      "drug_AtcS: (2026, 2026)\n",
      "drug_ChemS: (2026, 2026)\n",
      "drug_DDIS: (2026, 2026)\n",
      "drug_GepS: (2026, 2026)\n",
      "drug_SideS: (2026, 2026)\n",
      "drug_TargetS: (2026, 2026)\n",
      "disease_DoS: (4220, 4220)\n",
      "disease_PhS: (4220, 4220)\n",
      "Wdname: (4220,)\n",
      "Wrname: (2026,)\n"
     ]
    }
   ],
   "source": [
    "merged_data = extract_and_merge_datasets(dataset_files)\n",
    "\n",
    "for var_name, var_value in merged_data.items():\n",
    "    if isinstance(var_value, np.ndarray):\n",
    "        print(f\"{var_name}: {var_value.shape}\")\n",
    "    else:\n",
    "        print(f\"{var_name}: {len(var_value)} IDs\")"
   ]
  },
  {
   "cell_type": "code",
   "execution_count": 5,
   "id": "3f8a3b3f",
   "metadata": {
    "metadata": {}
   },
   "outputs": [],
   "source": [
    "pd.DataFrame(merged_data['Wdname']).to_csv('data/other/Wdname.csv', index=None, header=None)\n",
    "pd.DataFrame(merged_data['Wrname']).to_csv('data/other/Wrname.csv', index=None, header=None)"
   ]
  },
  {
   "cell_type": "code",
   "execution_count": 6,
   "id": "cf8f9520",
   "metadata": {
    "metadata": {}
   },
   "outputs": [
    {
     "data": {
      "text/plain": [
       "array([[1., 0., 0., ..., 0., 0., 0.],\n",
       "       [0., 1., 0., ..., 0., 0., 0.],\n",
       "       [0., 0., 1., ..., 0., 0., 0.],\n",
       "       ...,\n",
       "       [0., 0., 0., ..., 1., 0., 0.],\n",
       "       [0., 0., 0., ..., 0., 1., 0.],\n",
       "       [0., 0., 0., ..., 0., 0., 1.]], shape=(2026, 2026))"
      ]
     },
     "execution_count": 6,
     "metadata": {},
     "output_type": "execute_result"
    }
   ],
   "source": [
    "merged_data['drug_GepS']"
   ]
  },
  {
   "cell_type": "markdown",
   "id": "fa95cd01-f387-4858-ad30-6f8f6d489a2c",
   "metadata": {},
   "source": [
    "## VAE(ignore)"
   ]
  },
  {
   "cell_type": "code",
   "execution_count": null,
   "id": "549669d6-e443-4b77-8416-be4119c2a066",
   "metadata": {
    "metadata": {}
   },
   "outputs": [],
   "source": [
    "device = torch.device('cuda' if torch.cuda.is_available() else 'cpu')\n",
    "device"
   ]
  },
  {
   "cell_type": "code",
   "execution_count": null,
   "id": "b2fb3d68",
   "metadata": {
    "metadata": {}
   },
   "outputs": [],
   "source": [
    "class ComplexVAE(nn.Module):\n",
    "    def __init__(self, input_dim, latent_dim, hidden_dims=[256, 128, 64]):\n",
    "        super(ComplexVAE, self).__init__()\n",
    "        \n",
    "        encoder_layers = []\n",
    "        in_dim = input_dim\n",
    "        for h_dim in hidden_dims:\n",
    "            encoder_layers.append(nn.Linear(in_dim, h_dim))\n",
    "            encoder_layers.append(nn.ReLU())\n",
    "            in_dim = h_dim\n",
    "        self.encoder = nn.Sequential(*encoder_layers)\n",
    "        \n",
    "        self.fc_mean = nn.Linear(hidden_dims[-1], latent_dim)\n",
    "        self.fc_log_var = nn.Linear(hidden_dims[-1], latent_dim)\n",
    "        \n",
    "        decoder_layers = []\n",
    "        in_dim = latent_dim\n",
    "        for h_dim in reversed(hidden_dims):\n",
    "            decoder_layers.append(nn.Linear(in_dim, h_dim))\n",
    "            decoder_layers.append(nn.ReLU())\n",
    "            in_dim = h_dim\n",
    "        self.decoder = nn.Sequential(*decoder_layers)\n",
    "        \n",
    "        self.final_layer = nn.Linear(hidden_dims[0], input_dim)\n",
    "        \n",
    "    def encode(self, x):\n",
    "        h = self.encoder(x)\n",
    "        z_mean = self.fc_mean(h)\n",
    "        z_log_var = self.fc_log_var(h)\n",
    "        return z_mean, z_log_var\n",
    "\n",
    "    def reparameterize(self, z_mean, z_log_var):\n",
    "        std = torch.exp(0.5 * z_log_var)\n",
    "        eps = torch.randn_like(std)\n",
    "        return z_mean + eps * std\n",
    "\n",
    "    def decode(self, z):\n",
    "        h = self.decoder(z)\n",
    "        return torch.sigmoid(self.final_layer(h))\n",
    "\n",
    "    def forward(self, x):\n",
    "        z_mean, z_log_var = self.encode(x)\n",
    "        z = self.reparameterize(z_mean, z_log_var)\n",
    "        return self.decode(z), z_mean, z_log_var"
   ]
  },
  {
   "cell_type": "code",
   "execution_count": null,
   "id": "d4971530-dcce-4fd6-9226-25ad27c1ed52",
   "metadata": {
    "metadata": {}
   },
   "outputs": [],
   "source": [
    "class VAE(nn.Module):\n",
    "    def __init__(self, input_dim, latent_dim):\n",
    "        super(VAE, self).__init__()\n",
    "\n",
    "        self.fc1 = nn.Linear(input_dim, 128)\n",
    "        self.fc2_mean = nn.Linear(128, latent_dim)\n",
    "        self.fc2_log_var = nn.Linear(128, latent_dim)\n",
    "\n",
    "        self.fc3 = nn.Linear(latent_dim, 128)\n",
    "        self.fc4 = nn.Linear(128, input_dim)\n",
    "\n",
    "    def encode(self, x):\n",
    "        h1 = F.relu(self.fc1(x))\n",
    "        z_mean = self.fc2_mean(h1)\n",
    "        z_log_var = self.fc2_log_var(h1)\n",
    "        return z_mean, z_log_var\n",
    "\n",
    "    def reparameterize(self, z_mean, z_log_var):\n",
    "        std = torch.exp(0.5 * z_log_var)\n",
    "        eps = torch.randn_like(std)\n",
    "        return z_mean + eps * std\n",
    "\n",
    "    def decode(self, z):\n",
    "        h3 = F.relu(self.fc3(z))\n",
    "        return torch.sigmoid(self.fc4(h3))\n",
    "\n",
    "    def forward(self, x):\n",
    "        z_mean, z_log_var = self.encode(x)\n",
    "        z = self.reparameterize(z_mean, z_log_var)\n",
    "        return self.decode(z), z_mean, z_log_var"
   ]
  },
  {
   "cell_type": "code",
   "execution_count": 9,
   "id": "2496a2dc",
   "metadata": {
    "metadata": {}
   },
   "outputs": [],
   "source": [
    "class PositionalEncoding(nn.Module):\n",
    "    def __init__(self, d_model, dropout=0.1, max_len=5000):\n",
    "        super(PositionalEncoding, self).__init__()\n",
    "        self.dropout = nn.Dropout(p=dropout)\n",
    "\n",
    "        pe = torch.zeros(max_len, d_model)\n",
    "        position = torch.arange(0, max_len, dtype=torch.float).unsqueeze(1)\n",
    "        div_term = torch.exp(torch.arange(0, d_model, 2).float() * -(torch.log(torch.tensor(10000.0)) / d_model))\n",
    "        pe[:, 0::2] = torch.sin(position * div_term)\n",
    "        pe[:, 1::2] = torch.cos(position * div_term)\n",
    "        pe = pe.unsqueeze(0)  # (1, max_len, d_model)\n",
    "        self.register_buffer('pe', pe)\n",
    "\n",
    "    def forward(self, x):\n",
    "        return self.dropout(x + self.pe[:, :x.size(1), :])\n",
    "\n",
    "class TransformerVAE(nn.Module):\n",
    "    def __init__(self, input_dim, latent_dim, nhead=8, num_encoder_layers=6, num_decoder_layers=6):\n",
    "        super(TransformerVAE, self).__init__()\n",
    "        \n",
    "        self.encoder_embedding = nn.Linear(input_dim, 128)\n",
    "        self.decoder_embedding = nn.Linear(latent_dim, 128)\n",
    "        \n",
    "        self.positional_encoding = PositionalEncoding(d_model=128)\n",
    "\n",
    "        self.transformer_encoder = nn.TransformerEncoder(\n",
    "            nn.TransformerEncoderLayer(d_model=128, nhead=nhead), \n",
    "            num_layers=num_encoder_layers\n",
    "        )\n",
    "        \n",
    "        self.transformer_decoder = nn.TransformerDecoder(\n",
    "            nn.TransformerDecoderLayer(d_model=128, nhead=nhead), \n",
    "            num_layers=num_decoder_layers\n",
    "        )\n",
    "        \n",
    "        self.fc2_mean = nn.Linear(128, latent_dim)\n",
    "        self.fc2_log_var = nn.Linear(128, latent_dim)\n",
    "        self.fc_out = nn.Linear(128, input_dim)\n",
    "\n",
    "    def encode(self, x):\n",
    "        x = self.encoder_embedding(x).unsqueeze(1)  # Add sequence dimension\n",
    "        x = self.positional_encoding(x)  # Add positional encoding\n",
    "        encoded = self.transformer_encoder(x)\n",
    "        h = encoded.mean(dim=1)  # Pooling\n",
    "        z_mean = self.fc2_mean(h)\n",
    "        z_log_var = self.fc2_log_var(h)\n",
    "        return z_mean, z_log_var\n",
    "\n",
    "    def reparameterize(self, z_mean, z_log_var):\n",
    "        std = torch.exp(0.5 * z_log_var)\n",
    "        eps = torch.randn_like(std)\n",
    "        return z_mean + eps * std\n",
    "\n",
    "    def decode(self, z):\n",
    "        z = self.decoder_embedding(z).unsqueeze(1)  # Add sequence dimension\n",
    "        z = self.positional_encoding(z)  # Add positional encoding\n",
    "        decoded = self.transformer_decoder(z, z)  # Using z as both src and tgt\n",
    "        return torch.sigmoid(self.fc_out(decoded.mean(dim=1)))\n",
    "\n",
    "    def forward(self, x):\n",
    "        z_mean, z_log_var = self.encode(x)\n",
    "        z = self.reparameterize(z_mean, z_log_var)\n",
    "        return self.decode(z), z_mean, z_log_var"
   ]
  },
  {
   "cell_type": "code",
   "execution_count": null,
   "id": "6e25fc4b",
   "metadata": {
    "metadata": {}
   },
   "outputs": [],
   "source": [
    "def vae_loss(recon_x, x, z_mean, z_log_var):\n",
    "    recon_loss = F.mse_loss(recon_x, x, reduction='sum')\n",
    "    kl_divergence = -0.5 * torch.sum(1 + z_log_var - z_mean.pow(2) - z_log_var.exp())\n",
    "    return recon_loss + kl_divergence"
   ]
  },
  {
   "cell_type": "code",
   "execution_count": null,
   "id": "faf7a5aa-1e51-4a59-b631-dcb1c6c87bbb",
   "metadata": {
    "metadata": {}
   },
   "outputs": [],
   "source": [
    "input_dim_drug = 2026\n",
    "input_dim_disease = 4220\n",
    "latent_dim_drug = 64\n",
    "latent_dim_disease = 64\n",
    "learning_rate = 1e-4\n",
    "batch_size = 1024\n",
    "epochs = 1000"
   ]
  },
  {
   "cell_type": "code",
   "execution_count": null,
   "id": "708b7aea-4c5b-4428-805e-9a3abc889d54",
   "metadata": {
    "metadata": {}
   },
   "outputs": [],
   "source": [
    "drug_matrices = [merged_data['drug_AtcS'], merged_data['drug_ChemS'], \n",
    "                 merged_data['drug_DDIS'], merged_data['drug_GepS'], \n",
    "                 merged_data['drug_SideS'], merged_data['drug_TargetS']]\n",
    "disease_matrices = [merged_data['disease_DoS'], merged_data['disease_PhS']]"
   ]
  },
  {
   "cell_type": "code",
   "execution_count": 13,
   "id": "7455a777",
   "metadata": {
    "metadata": {}
   },
   "outputs": [],
   "source": [
    "drug_combined = np.mean(drug_matrices, axis=0)\n",
    "disease_combined = np.mean(disease_matrices, axis=0)\n",
    "# drug_combined = np.stack(drug_matrices, axis=0)\n",
    "# disease_combined = np.stack(disease_matrices, axis=0)"
   ]
  },
  {
   "cell_type": "code",
   "execution_count": null,
   "id": "5fd45c57",
   "metadata": {
    "metadata": {}
   },
   "outputs": [],
   "source": [
    "drug_combined.shape"
   ]
  },
  {
   "cell_type": "code",
   "execution_count": null,
   "id": "7d5ea5ab-91ce-4a9e-9aa4-c0092e3a1150",
   "metadata": {
    "metadata": {}
   },
   "outputs": [],
   "source": [
    "drug_data = torch.tensor(drug_combined, dtype=torch.float32).to(device)\n",
    "disease_data = torch.tensor(disease_combined, dtype=torch.float32).to(device)\n",
    "\n",
    "drug_loader = DataLoader(TensorDataset(drug_data), batch_size=batch_size, shuffle=True)\n",
    "disease_loader = DataLoader(TensorDataset(disease_data), batch_size=batch_size, shuffle=True)"
   ]
  },
  {
   "cell_type": "code",
   "execution_count": null,
   "id": "bf86029e",
   "metadata": {
    "metadata": {}
   },
   "outputs": [],
   "source": [
    "for i in drug_loader:\n",
    "    print(i[0].shape)\n",
    "    break"
   ]
  },
  {
   "cell_type": "code",
   "execution_count": null,
   "id": "3d00ad62-923d-4808-aa6b-2ec537531710",
   "metadata": {
    "metadata": {}
   },
   "outputs": [],
   "source": [
    "# drug_vae = TransformerVAE(input_dim=input_dim_drug, latent_dim=latent_dim_drug).to(device)\n",
    "# disease_vae = TransformerVAE(input_dim=input_dim_disease, latent_dim=latent_dim_disease).to(device)\n",
    "# drug_vae = VAE(input_dim=input_dim_drug, latent_dim=latent_dim_drug).to(device)\n",
    "# disease_vae = VAE(input_dim=input_dim_disease, latent_dim=latent_dim_disease).to(device)\n",
    "drug_vae = ComplexVAE(input_dim=input_dim_drug, latent_dim=latent_dim_drug).to(device)\n",
    "disease_vae = ComplexVAE(input_dim=input_dim_disease, latent_dim=latent_dim_disease).to(device)\n",
    "optimizer_drug = torch.optim.AdamW(drug_vae.parameters(), lr=learning_rate)\n",
    "optimizer_disease = torch.optim.AdamW(disease_vae.parameters(), lr=learning_rate)"
   ]
  },
  {
   "cell_type": "code",
   "execution_count": null,
   "id": "da956c2d-90de-45e1-89be-9ad96131445c",
   "metadata": {
    "metadata": {}
   },
   "outputs": [],
   "source": [
    "def train_vae(model, data_loader, optimizer, epochs):\n",
    "    model.train()\n",
    "    for epoch in range(epochs):\n",
    "        total_loss = 0\n",
    "        for batch in data_loader:\n",
    "            x = batch[0].to(device)\n",
    "            optimizer.zero_grad()\n",
    "            recon_x, z_mean, z_log_var = model(x)\n",
    "            loss = vae_loss(recon_x, x, z_mean, z_log_var)\n",
    "            loss.backward()\n",
    "            optimizer.step()\n",
    "            total_loss += loss.item()\n",
    "        print(f'Epoch {epoch + 1}, Loss: {total_loss / len(data_loader.dataset)}')"
   ]
  },
  {
   "cell_type": "code",
   "execution_count": null,
   "id": "18a608d2-afbc-4e47-a1b0-0c98f46689a3",
   "metadata": {
    "metadata": {},
    "scrolled": true
   },
   "outputs": [],
   "source": [
    "print(\"Training Drug VAE...\")\n",
    "train_vae(drug_vae, drug_loader, optimizer_drug, epochs)"
   ]
  },
  {
   "cell_type": "code",
   "execution_count": null,
   "id": "e85b8e35-6821-420d-88ad-aa0c02a432bb",
   "metadata": {
    "metadata": {},
    "scrolled": true
   },
   "outputs": [],
   "source": [
    "print(\"Training Disease VAE...\")\n",
    "train_vae(disease_vae, disease_loader, optimizer_disease, epochs)"
   ]
  },
  {
   "cell_type": "code",
   "execution_count": null,
   "id": "da9501e8-0604-4dfd-95d1-0d7ff0e95e5e",
   "metadata": {
    "metadata": {}
   },
   "outputs": [],
   "source": [
    "def get_embeddings(model, data_loader):\n",
    "    model.eval()\n",
    "    embeddings = []\n",
    "    with torch.no_grad():\n",
    "        for batch in data_loader:\n",
    "            x = batch[0].to(device)\n",
    "            z_mean, _ = model.encode(x)\n",
    "            embeddings.append(z_mean.cpu().numpy())\n",
    "    return np.vstack(embeddings)"
   ]
  },
  {
   "cell_type": "code",
   "execution_count": null,
   "id": "3d3056af-0de9-4cc6-a4f4-4310a9dbad90",
   "metadata": {
    "metadata": {}
   },
   "outputs": [],
   "source": [
    "drug_embeddings = get_embeddings(drug_vae, drug_loader)\n",
    "disease_embeddings = get_embeddings(disease_vae, disease_loader)\n",
    "print(\"Drug embeddings shape:\", drug_embeddings.shape)\n",
    "print(\"Disease embeddings shape:\", disease_embeddings.shape)"
   ]
  },
  {
   "cell_type": "code",
   "execution_count": 23,
   "id": "b343f3dd-458c-44d2-a18d-c876e97af48d",
   "metadata": {
    "metadata": {}
   },
   "outputs": [],
   "source": [
    "pd.DataFrame(drug_embeddings).to_csv('data/Embedding/drug_embeddings.csv', index=None)\n",
    "pd.DataFrame(disease_embeddings).to_csv('data/Embedding/disease_embeddings.csv', index=None)"
   ]
  },
  {
   "cell_type": "markdown",
   "id": "5dcd1463-b2cd-4be2-8af7-6949e6b267cb",
   "metadata": {},
   "source": [
    "## Create Small Embedding File"
   ]
  },
  {
   "cell_type": "code",
   "execution_count": 7,
   "id": "85811b07",
   "metadata": {
    "metadata": {}
   },
   "outputs": [],
   "source": [
    "# llm\n",
    "drug_embeddings_llm = pd.read_csv('data/Embedding/db2llm_emb.csv')\n",
    "drug_embeddings_llm = drug_embeddings_llm.iloc[:, 2:].values\n",
    "\n",
    "disease_embeddings_llm = pd.read_csv('data/Embedding/omim2llm_emb.csv')\n",
    "disease_embeddings_llm = disease_embeddings_llm.iloc[:, 3:].values"
   ]
  },
  {
   "cell_type": "code",
   "execution_count": 8,
   "id": "f17bc401",
   "metadata": {
    "metadata": {}
   },
   "outputs": [],
   "source": [
    "# kg\n",
    "drug_embeddings_kg = pd.read_csv('data/Embedding/kg_embeddings.csv')\n",
    "drug_embeddings_kg = drug_embeddings_kg.iloc[:, 2:].values\n",
    "\n",
    "disease_embeddings_kg = pd.read_csv('data/Embedding/kg_embeddings.csv')\n",
    "disease_embeddings_kg = disease_embeddings_kg.iloc[:, 2:].values"
   ]
  },
  {
   "cell_type": "code",
   "execution_count": 9,
   "id": "e8d17c90",
   "metadata": {
    "metadata": {}
   },
   "outputs": [
    {
     "name": "stdout",
     "output_type": "stream",
     "text": [
      "LLM Embedding Shape: (2026, 1024), (4220, 1024)\n",
      "KG Embedding Shape: (6246, 128), (6246, 128)\n"
     ]
    }
   ],
   "source": [
    "print(\n",
    "    f'LLM Embedding Shape: {drug_embeddings_llm.shape}, {disease_embeddings_llm.shape}\\n'\n",
    "    f'KG Embedding Shape: {drug_embeddings_kg.shape}, {disease_embeddings_kg.shape}'\n",
    "    ) "
   ]
  },
  {
   "cell_type": "code",
   "execution_count": null,
   "id": "6e56b16d",
   "metadata": {
    "metadata": {}
   },
   "outputs": [],
   "source": [
    "extract_embeddings('Fdataset', merged_data, drug_embeddings, disease_embeddings)"
   ]
  },
  {
   "cell_type": "code",
   "execution_count": null,
   "id": "96dbda1b-0b0b-4f37-98af-dea8cc46f612",
   "metadata": {
    "metadata": {}
   },
   "outputs": [],
   "source": [
    "extract_embeddings('Cdataset', merged_data, drug_embeddings, disease_embeddings)"
   ]
  },
  {
   "cell_type": "code",
   "execution_count": null,
   "id": "8e4eeadc",
   "metadata": {
    "metadata": {}
   },
   "outputs": [],
   "source": [
    "extract_embeddings('Ydataset', merged_data, drug_embeddings, disease_embeddings)"
   ]
  },
  {
   "cell_type": "code",
   "execution_count": 10,
   "id": "a66271c6",
   "metadata": {
    "metadata": {}
   },
   "outputs": [
    {
     "name": "stdout",
     "output_type": "stream",
     "text": [
      "Extracted drug embeddings shape: (1321, 1024)\n",
      "Extracted disease embeddings shape: (3966, 1024)\n",
      "Files have been saved at: data/iDrug/iDrug_drug_embedding_llm.csv and data/iDrug/iDrug_disease_embedding_llm.csv\n",
      "Extracted drug embeddings shape: (1321, 128)\n",
      "Extracted disease embeddings shape: (3966, 128)\n",
      "Files have been saved at: data/iDrug/iDrug_drug_embedding_kg.csv and data/iDrug/iDrug_disease_embedding_kg.csv\n"
     ]
    }
   ],
   "source": [
    "extract_embeddings('iDrug', merged_data, drug_embeddings_llm, disease_embeddings_llm, type='llm')\n",
    "extract_embeddings('iDrug', merged_data, drug_embeddings_kg, disease_embeddings_kg, type='kg')"
   ]
  },
  {
   "cell_type": "code",
   "execution_count": null,
   "id": "8e4b0bcc",
   "metadata": {},
   "outputs": [],
   "source": []
  }
 ],
 "metadata": {
  "kernelspec": {
   "display_name": "Python 3 (ipykernel)",
   "language": "python",
   "name": "python3"
  }
 },
 "nbformat": 4,
 "nbformat_minor": 5
}
